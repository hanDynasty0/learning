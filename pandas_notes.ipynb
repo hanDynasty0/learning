{
 "cells": [
  {
   "cell_type": "markdown",
   "id": "5be27dd6",
   "metadata": {},
   "source": [
    "Import pandas (and numpy) with:"
   ]
  },
  {
   "cell_type": "code",
   "execution_count": null,
   "id": "cd373e2d",
   "metadata": {},
   "outputs": [],
   "source": [
    "import pandas as pd \n",
    "import numpy as np"
   ]
  },
  {
   "cell_type": "markdown",
   "id": "87990892",
   "metadata": {},
   "source": [
    "## Pandas Series\n",
    "Pandas Series are like table columns, a 1D array."
   ]
  },
  {
   "cell_type": "code",
   "execution_count": null,
   "id": "f85bb506",
   "metadata": {},
   "outputs": [
    {
     "name": "stdout",
     "output_type": "stream",
     "text": [
      "0    3\n",
      "1    1\n",
      "2    7\n",
      "3    0\n",
      "dtype: int64\n"
     ]
    }
   ],
   "source": [
    "series = [3, 1, 7, 0]\n",
    "pd_series = pd.Series(series)\n",
    "print(pd_series)\n",
    "# Result:\n",
    "# 0    3\n",
    "# 1    1\n",
    "# 2    7\n",
    "# 3    0\n",
    "# dtype: int64\n",
    "\n",
    "# pd_series[0] returns 3"
   ]
  },
  {
   "cell_type": "markdown",
   "id": "83eb69d1",
   "metadata": {},
   "source": [
    "Create labels with the index argument:"
   ]
  },
  {
   "cell_type": "code",
   "execution_count": null,
   "id": "99aced74",
   "metadata": {},
   "outputs": [],
   "source": [
    "my_index = [\"A\", \"B\", \"C\", \"D\"]\n",
    "pd_series2 = pd.Series(series, my_index)\n",
    "print(pd_series2)\n",
    "# Result:\n",
    "# A    3\n",
    "# B    1\n",
    "# C    7\n",
    "# D    0\n",
    "# dtype: int64\n",
    "\n",
    "# pd_series2[\"A\"] returns 3"
   ]
  },
  {
   "cell_type": "markdown",
   "id": "96a5911d",
   "metadata": {},
   "source": [
    "Create a Pandas Series from a Python dictionary:"
   ]
  },
  {
   "cell_type": "code",
   "execution_count": null,
   "id": "039b5528",
   "metadata": {},
   "outputs": [],
   "source": [
    "cars = {\"Audi\": 4, \"BMW\": 3, \"Toyota\": 6}\n",
    "pd_series3 = pd.Series(cars)\n",
    "print(pd_series3)\n",
    "# Result:\n",
    "# Audi      4\n",
    "# BMW       3\n",
    "# Toyota    6\n",
    "# dtype: int64\n",
    "\n",
    "# pd_series3[\"Audi\"] returns 4"
   ]
  }
 ],
 "metadata": {
  "kernelspec": {
   "display_name": "Python 3",
   "language": "python",
   "name": "python3"
  },
  "language_info": {
   "codemirror_mode": {
    "name": "ipython",
    "version": 3
   },
   "file_extension": ".py",
   "mimetype": "text/x-python",
   "name": "python",
   "nbconvert_exporter": "python",
   "pygments_lexer": "ipython3",
   "version": "3.11.9"
  }
 },
 "nbformat": 4,
 "nbformat_minor": 5
}
