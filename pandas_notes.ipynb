{
 "cells": [
  {
   "cell_type": "markdown",
   "id": "5be27dd6",
   "metadata": {},
   "source": [
    "Import pandas (and numpy) with:"
   ]
  },
  {
   "cell_type": "code",
   "execution_count": null,
   "id": "cd373e2d",
   "metadata": {},
   "outputs": [],
   "source": [
    "import pandas as pd \n",
    "import numpy as np"
   ]
  },
  {
   "cell_type": "markdown",
   "id": "87990892",
   "metadata": {},
   "source": [
    "## Pandas Series\n",
    "Pandas Series are like table columns, a 1D array."
   ]
  },
  {
   "cell_type": "code",
   "execution_count": null,
   "id": "f85bb506",
   "metadata": {},
   "outputs": [
    {
     "name": "stdout",
     "output_type": "stream",
     "text": [
      "0    3\n",
      "1    1\n",
      "2    7\n",
      "3    0\n",
      "dtype: int64\n"
     ]
    }
   ],
   "source": [
    "series = [3, 1, 7, 0]\n",
    "pd_series = pd.Series(series)\n",
    "print(pd_series)\n",
    "# Result:\n",
    "# 0    3\n",
    "# 1    1\n",
    "# 2    7\n",
    "# 3    0\n",
    "# dtype: int64\n",
    "\n",
    "# pd_series[0] returns 3"
   ]
  },
  {
   "cell_type": "markdown",
   "id": "83eb69d1",
   "metadata": {},
   "source": [
    "Create labels with the index argument:"
   ]
  },
  {
   "cell_type": "code",
   "execution_count": null,
   "id": "99aced74",
   "metadata": {},
   "outputs": [],
   "source": [
    "my_index = [\"A\", \"B\", \"C\", \"D\"]\n",
    "pd_series2 = pd.Series(series, my_index)\n",
    "print(pd_series2)\n",
    "# Result:\n",
    "# A    3\n",
    "# B    1\n",
    "# C    7\n",
    "# D    0\n",
    "# dtype: int64\n",
    "\n",
    "# pd_series2[\"A\"] returns 3"
   ]
  },
  {
   "cell_type": "markdown",
   "id": "96a5911d",
   "metadata": {},
   "source": [
    "Create a Pandas Series from a Python dictionary:"
   ]
  },
  {
   "cell_type": "code",
   "execution_count": null,
   "id": "039b5528",
   "metadata": {},
   "outputs": [],
   "source": [
    "cars = {\"Audi\": 4, \"BMW\": 3, \"Toyota\": 6}\n",
    "pd_series3 = pd.Series(cars)\n",
    "print(pd_series3)\n",
    "# Result:\n",
    "# Audi      4\n",
    "# BMW       3\n",
    "# Toyota    6\n",
    "# dtype: int64\n",
    "\n",
    "# pd_series3[\"Audi\"] returns 4"
   ]
  },
  {
   "cell_type": "markdown",
   "id": "18bd55c6",
   "metadata": {},
   "source": [
    "## Intro to Dataframes\n",
    "Creating a random dataframe:"
   ]
  },
  {
   "cell_type": "code",
   "execution_count": 1,
   "id": "5e1d57e2",
   "metadata": {},
   "outputs": [
    {
     "data": {
      "text/html": [
       "<div>\n",
       "<style scoped>\n",
       "    .dataframe tbody tr th:only-of-type {\n",
       "        vertical-align: middle;\n",
       "    }\n",
       "\n",
       "    .dataframe tbody tr th {\n",
       "        vertical-align: top;\n",
       "    }\n",
       "\n",
       "    .dataframe thead th {\n",
       "        text-align: right;\n",
       "    }\n",
       "</style>\n",
       "<table border=\"1\" class=\"dataframe\">\n",
       "  <thead>\n",
       "    <tr style=\"text-align: right;\">\n",
       "      <th></th>\n",
       "      <th>Monday</th>\n",
       "      <th>Tuesday</th>\n",
       "      <th>Wednesday</th>\n",
       "    </tr>\n",
       "  </thead>\n",
       "  <tbody>\n",
       "    <tr>\n",
       "      <th>A</th>\n",
       "      <td>-0.289075</td>\n",
       "      <td>0.020548</td>\n",
       "      <td>1.067276</td>\n",
       "    </tr>\n",
       "    <tr>\n",
       "      <th>B</th>\n",
       "      <td>0.014860</td>\n",
       "      <td>-0.569779</td>\n",
       "      <td>0.141372</td>\n",
       "    </tr>\n",
       "    <tr>\n",
       "      <th>C</th>\n",
       "      <td>1.685028</td>\n",
       "      <td>0.695544</td>\n",
       "      <td>0.630808</td>\n",
       "    </tr>\n",
       "    <tr>\n",
       "      <th>D</th>\n",
       "      <td>1.141039</td>\n",
       "      <td>0.208812</td>\n",
       "      <td>-0.738063</td>\n",
       "    </tr>\n",
       "  </tbody>\n",
       "</table>\n",
       "</div>"
      ],
      "text/plain": [
       "     Monday   Tuesday  Wednesday\n",
       "A -0.289075  0.020548   1.067276\n",
       "B  0.014860 -0.569779   0.141372\n",
       "C  1.685028  0.695544   0.630808\n",
       "D  1.141039  0.208812  -0.738063"
      ]
     },
     "execution_count": 1,
     "metadata": {},
     "output_type": "execute_result"
    }
   ],
   "source": [
    "import pandas as pd\n",
    "import numpy as np\n",
    "from numpy.random import randn\n",
    "\n",
    "my_data = randn(4, 3) # Rows, Columns\n",
    "my_rows = [\"A\", \"B\", \"C\", \"D\"]\n",
    "my_cols = [\"Monday\", \"Tuesday\", \"Wednesday\"]\n",
    "\n",
    "# Create Dataframe\n",
    "my_df = pd.DataFrame(my_data, my_rows, my_cols)\n",
    "my_df"
   ]
  },
  {
   "cell_type": "markdown",
   "id": "dc2c9bb5",
   "metadata": {},
   "source": [
    "Importing a dataframe:"
   ]
  },
  {
   "cell_type": "code",
   "execution_count": null,
   "id": "b841677c",
   "metadata": {},
   "outputs": [],
   "source": []
  }
 ],
 "metadata": {
  "kernelspec": {
   "display_name": "Python 3",
   "language": "python",
   "name": "python3"
  },
  "language_info": {
   "codemirror_mode": {
    "name": "ipython",
    "version": 3
   },
   "file_extension": ".py",
   "mimetype": "text/x-python",
   "name": "python",
   "nbconvert_exporter": "python",
   "pygments_lexer": "ipython3",
   "version": "3.11.9"
  }
 },
 "nbformat": 4,
 "nbformat_minor": 5
}
