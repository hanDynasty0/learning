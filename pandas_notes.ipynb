{
 "cells": [
  {
   "cell_type": "markdown",
   "id": "5be27dd6",
   "metadata": {},
   "source": [
    "Import pandas (and numpy) with:"
   ]
  },
  {
   "cell_type": "code",
   "execution_count": null,
   "id": "cd373e2d",
   "metadata": {},
   "outputs": [],
   "source": [
    "import pandas as pd \n",
    "import numpy as np"
   ]
  },
  {
   "cell_type": "markdown",
   "id": "87990892",
   "metadata": {},
   "source": [
    "## Pandas Series\n",
    "Pandas Series are like table columns, a 1D array."
   ]
  },
  {
   "cell_type": "code",
   "execution_count": null,
   "id": "f85bb506",
   "metadata": {},
   "outputs": [
    {
     "name": "stdout",
     "output_type": "stream",
     "text": [
      "0    3\n",
      "1    1\n",
      "2    7\n",
      "3    0\n",
      "dtype: int64\n"
     ]
    }
   ],
   "source": [
    "series = [3, 1, 7, 0]\n",
    "pd_series = pd.Series(series)\n",
    "print(pd_series)\n",
    "# Result:\n",
    "# 0    3\n",
    "# 1    1\n",
    "# 2    7\n",
    "# 3    0\n",
    "# dtype: int64\n",
    "\n",
    "# pd_series[0] returns 3"
   ]
  },
  {
   "cell_type": "markdown",
   "id": "83eb69d1",
   "metadata": {},
   "source": [
    "Create labels with the index argument:"
   ]
  },
  {
   "cell_type": "code",
   "execution_count": null,
   "id": "99aced74",
   "metadata": {},
   "outputs": [],
   "source": [
    "my_index = [\"A\", \"B\", \"C\", \"D\"]\n",
    "pd_series2 = pd.Series(series, my_index)\n",
    "print(pd_series2)\n",
    "# Result:\n",
    "# A    3\n",
    "# B    1\n",
    "# C    7\n",
    "# D    0\n",
    "# dtype: int64\n",
    "\n",
    "# pd_series2[\"A\"] returns 3"
   ]
  },
  {
   "cell_type": "markdown",
   "id": "96a5911d",
   "metadata": {},
   "source": [
    "Create a Pandas Series from a Python dictionary:"
   ]
  },
  {
   "cell_type": "code",
   "execution_count": null,
   "id": "039b5528",
   "metadata": {},
   "outputs": [],
   "source": [
    "cars = {\"Audi\": 4, \"BMW\": 3, \"Toyota\": 6}\n",
    "pd_series3 = pd.Series(cars)\n",
    "print(pd_series3)\n",
    "# Result:\n",
    "# Audi      4\n",
    "# BMW       3\n",
    "# Toyota    6\n",
    "# dtype: int64\n",
    "\n",
    "# pd_series3[\"Audi\"] returns 4"
   ]
  },
  {
   "cell_type": "markdown",
   "id": "18bd55c6",
   "metadata": {},
   "source": [
    "## Pandas Dataframes\n",
    "Creating a random dataframe:"
   ]
  },
  {
   "cell_type": "code",
   "execution_count": 1,
   "id": "5e1d57e2",
   "metadata": {},
   "outputs": [
    {
     "data": {
      "text/html": [
       "<div>\n",
       "<style scoped>\n",
       "    .dataframe tbody tr th:only-of-type {\n",
       "        vertical-align: middle;\n",
       "    }\n",
       "\n",
       "    .dataframe tbody tr th {\n",
       "        vertical-align: top;\n",
       "    }\n",
       "\n",
       "    .dataframe thead th {\n",
       "        text-align: right;\n",
       "    }\n",
       "</style>\n",
       "<table border=\"1\" class=\"dataframe\">\n",
       "  <thead>\n",
       "    <tr style=\"text-align: right;\">\n",
       "      <th></th>\n",
       "      <th>Monday</th>\n",
       "      <th>Tuesday</th>\n",
       "      <th>Wednesday</th>\n",
       "    </tr>\n",
       "  </thead>\n",
       "  <tbody>\n",
       "    <tr>\n",
       "      <th>A</th>\n",
       "      <td>-0.289075</td>\n",
       "      <td>0.020548</td>\n",
       "      <td>1.067276</td>\n",
       "    </tr>\n",
       "    <tr>\n",
       "      <th>B</th>\n",
       "      <td>0.014860</td>\n",
       "      <td>-0.569779</td>\n",
       "      <td>0.141372</td>\n",
       "    </tr>\n",
       "    <tr>\n",
       "      <th>C</th>\n",
       "      <td>1.685028</td>\n",
       "      <td>0.695544</td>\n",
       "      <td>0.630808</td>\n",
       "    </tr>\n",
       "    <tr>\n",
       "      <th>D</th>\n",
       "      <td>1.141039</td>\n",
       "      <td>0.208812</td>\n",
       "      <td>-0.738063</td>\n",
       "    </tr>\n",
       "  </tbody>\n",
       "</table>\n",
       "</div>"
      ],
      "text/plain": [
       "     Monday   Tuesday  Wednesday\n",
       "A -0.289075  0.020548   1.067276\n",
       "B  0.014860 -0.569779   0.141372\n",
       "C  1.685028  0.695544   0.630808\n",
       "D  1.141039  0.208812  -0.738063"
      ]
     },
     "execution_count": 1,
     "metadata": {},
     "output_type": "execute_result"
    }
   ],
   "source": [
    "import pandas as pd\n",
    "import numpy as np\n",
    "from numpy.random import randn\n",
    "\n",
    "my_data = randn(4, 3) # Rows, Columns\n",
    "my_rows = [\"A\", \"B\", \"C\", \"D\"]\n",
    "my_cols = [\"Monday\", \"Tuesday\", \"Wednesday\"]\n",
    "\n",
    "# Create Dataframe\n",
    "my_df = pd.DataFrame(my_data, my_rows, my_cols)\n",
    "my_df"
   ]
  },
  {
   "cell_type": "markdown",
   "id": "dc2c9bb5",
   "metadata": {},
   "source": [
    "Importing dataframes and some pandas functions:"
   ]
  },
  {
   "cell_type": "code",
   "execution_count": null,
   "id": "b841677c",
   "metadata": {},
   "outputs": [],
   "source": [
    "my_df2 = pd.read_csv(...)\n",
    "\n",
    "# Pull out a row:\n",
    "my_df2.loc[0] # Series for the 1st row\n",
    "\n",
    "# Pull out multiple rows\n",
    "my_df2.loc[[0, 5]] # Dataframe containing the 1st and 6th rows\n",
    "\n",
    "# Grab the first 9 rows\n",
    "my_df2.head(9) # If no parameter is given, then head works for the first 5 rows\n",
    "\n",
    "# Grab the last 9 rows\n",
    "my_df2.tail(9) # If no parameter is given, then tail works for the last 5 rows\n",
    "\n",
    "# Get info about the dataframe\n",
    "my_df2.info()\n",
    "\n",
    "# Get shape of rows and columns\n",
    "my_df2.shape\n",
    "\n",
    "# Get number of dimensions\n",
    "my_df2.ndim\n",
    "\n",
    "# Get column datatypes\n",
    "my_df2.dtypes\n",
    "\n",
    "# Get statistics about the data\n",
    "my_df2.describe()\n",
    "my_df2[...].describe() # Get statistics about a specific column\n",
    "\n",
    "# Select specific column\n",
    "my_df2[...]         # Using brackets\n",
    "my_df2._            # Using dot notation\n",
    "my_df2.iloc[:, ...]    # Using location"
   ]
  },
  {
   "cell_type": "markdown",
   "id": "3baf135e",
   "metadata": {},
   "source": [
    "Count data in a dataframe:"
   ]
  },
  {
   "cell_type": "code",
   "execution_count": null,
   "id": "7c37cf5c",
   "metadata": {},
   "outputs": [],
   "source": [
    "# Count distinct values in a column\n",
    "my_df2[...].value_counts()                  # descending\n",
    "my_df2[...].value_counts(ascending = True)  # ascending\n",
    "my_df2[...].value_counts(dropna = False)    # include NaN values\n",
    "my_df2[...].value_counts(normalize = True)  # relative frequency\n",
    "my_df2[...].value_counts()[...]             # get specific item count in the second bracket\n",
    "\n",
    "# Other ways to count unique values\n",
    "my_df2.groupby(...).size()                  # count unique values - size\n",
    "my_df2.groupby(...).count()                 # count unique values - count\n",
    "\n",
    "# Get a count of all columns across all columns\n",
    "my_df2.apply(pd.value_counts)"
   ]
  },
  {
   "cell_type": "markdown",
   "id": "c00eda65",
   "metadata": {},
   "source": [
    "Add new columns to a dataframe:"
   ]
  },
  {
   "cell_type": "code",
   "execution_count": null,
   "id": "7bbec0b8",
   "metadata": {},
   "outputs": [],
   "source": [
    "# Add column from list:\n",
    "gender = [...]\n",
    "my_df2[\"Gender\"] = gender # List length as to be the same as the number of rows\n",
    "# Use np.nan to allow NaN values to be inserted as a column\n",
    "\n",
    "my_df2.insert(1, \"...\", ..., True) \n",
    "# Second parameter is the column name\n",
    "# Third parameter is the list\n",
    "# Fourth parameter is whether to allow duplicate values\n",
    "\n",
    "# Add column with .assign() - creates a new dataframe\n",
    "my_df3 = my_df2.assign(...) # parameter is the list to add"
   ]
  },
  {
   "cell_type": "markdown",
   "id": "b11ec59f",
   "metadata": {},
   "source": [
    "Removing rows and columns from a dataframe:"
   ]
  },
  {
   "cell_type": "code",
   "execution_count": null,
   "id": "ef480adf",
   "metadata": {},
   "outputs": [],
   "source": [
    "# Remove column\n",
    "my_df2.drop(\"Gender\", axis = 1, inplace = True) \n",
    "# Designate the column you want dropped\n",
    "# axis = 1 for columns\n",
    "# inplace = True for deleting a column permanently\n",
    "\n",
    "# Remove row\n",
    "my_df2.drop(3, axis = 0, inplace = True) \n",
    "# Designate the row you want dropped (Number for the row index)\n",
    "# axis = 0 for rows\n",
    "# inplace = True for deleting a column permanently"
   ]
  },
  {
   "cell_type": "markdown",
   "id": "8a8da3df",
   "metadata": {},
   "source": [
    "Grab Rows, Points and Subsets from a dataframe:"
   ]
  },
  {
   "cell_type": "code",
   "execution_count": null,
   "id": "40ff5bec",
   "metadata": {},
   "outputs": [],
   "source": [
    "my_df2.loc[...] # using loc (indexing)\n",
    "my_df2.iloc[...] # using iloc (position)\n",
    "my_df2.loc[..., ...] # get point\n",
    "# for subsets, you can pass lists of indices into loc, or lists of positions into iloc"
   ]
  },
  {
   "cell_type": "markdown",
   "id": "c471b433",
   "metadata": {},
   "source": [
    "For conditional selections, you can pass in conditional statements as indices into a pandas dataframe to return column(s) that display the original data if the condition is satisfied, and NaN if it isn't.\n",
    "\n",
    "Additional Note: & for and, and | for or."
   ]
  },
  {
   "cell_type": "markdown",
   "id": "da6b0c0b",
   "metadata": {},
   "source": [
    "Changing and Resetting Indices:"
   ]
  },
  {
   "cell_type": "code",
   "execution_count": null,
   "id": "4ebe56e3",
   "metadata": {},
   "outputs": [],
   "source": [
    "my_df2[\"...\"] = [...]\n",
    "my_df2.set_index(\"...\", inplace = True) # set new index, inplace = True for permanent change\n",
    "my_df2.reset_index(inplace = True) # reset the index, inplace = True for permanent change"
   ]
  },
  {
   "cell_type": "markdown",
   "id": "a641bccb",
   "metadata": {},
   "source": [
    "Dealing with Incomplete Data:"
   ]
  },
  {
   "cell_type": "code",
   "execution_count": 6,
   "id": "07c1457b",
   "metadata": {},
   "outputs": [
    {
     "data": {
      "text/html": [
       "<div>\n",
       "<style scoped>\n",
       "    .dataframe tbody tr th:only-of-type {\n",
       "        vertical-align: middle;\n",
       "    }\n",
       "\n",
       "    .dataframe tbody tr th {\n",
       "        vertical-align: top;\n",
       "    }\n",
       "\n",
       "    .dataframe thead th {\n",
       "        text-align: right;\n",
       "    }\n",
       "</style>\n",
       "<table border=\"1\" class=\"dataframe\">\n",
       "  <thead>\n",
       "    <tr style=\"text-align: right;\">\n",
       "      <th></th>\n",
       "      <th>A</th>\n",
       "      <th>B</th>\n",
       "      <th>C</th>\n",
       "      <th>D</th>\n",
       "    </tr>\n",
       "  </thead>\n",
       "  <tbody>\n",
       "    <tr>\n",
       "      <th>0</th>\n",
       "      <td>1</td>\n",
       "      <td>4.0</td>\n",
       "      <td>7</td>\n",
       "      <td>10</td>\n",
       "    </tr>\n",
       "    <tr>\n",
       "      <th>1</th>\n",
       "      <td>2</td>\n",
       "      <td>NaN</td>\n",
       "      <td>8</td>\n",
       "      <td>11</td>\n",
       "    </tr>\n",
       "    <tr>\n",
       "      <th>2</th>\n",
       "      <td>3</td>\n",
       "      <td>NaN</td>\n",
       "      <td>9</td>\n",
       "      <td>12</td>\n",
       "    </tr>\n",
       "  </tbody>\n",
       "</table>\n",
       "</div>"
      ],
      "text/plain": [
       "   A    B  C   D\n",
       "0  1  4.0  7  10\n",
       "1  2  NaN  8  11\n",
       "2  3  NaN  9  12"
      ]
     },
     "execution_count": 6,
     "metadata": {},
     "output_type": "execute_result"
    }
   ],
   "source": [
    "import pandas as pd\n",
    "import numpy as np\n",
    "\n",
    "# create dummy data\n",
    "stuff = {\"A\": [1, 2, 3], \"B\": [4, np.nan, np.nan], \"C\": [7, 8, 9], \"D\": [10, 11, 12]}\n",
    "my_df = pd.DataFrame(stuff)\n",
    "my_df"
   ]
  },
  {
   "cell_type": "code",
   "execution_count": 7,
   "id": "82edb01c",
   "metadata": {},
   "outputs": [
    {
     "data": {
      "text/html": [
       "<div>\n",
       "<style scoped>\n",
       "    .dataframe tbody tr th:only-of-type {\n",
       "        vertical-align: middle;\n",
       "    }\n",
       "\n",
       "    .dataframe tbody tr th {\n",
       "        vertical-align: top;\n",
       "    }\n",
       "\n",
       "    .dataframe thead th {\n",
       "        text-align: right;\n",
       "    }\n",
       "</style>\n",
       "<table border=\"1\" class=\"dataframe\">\n",
       "  <thead>\n",
       "    <tr style=\"text-align: right;\">\n",
       "      <th></th>\n",
       "      <th>A</th>\n",
       "      <th>B</th>\n",
       "      <th>C</th>\n",
       "      <th>D</th>\n",
       "    </tr>\n",
       "  </thead>\n",
       "  <tbody>\n",
       "    <tr>\n",
       "      <th>0</th>\n",
       "      <td>1</td>\n",
       "      <td>4.0</td>\n",
       "      <td>7</td>\n",
       "      <td>10</td>\n",
       "    </tr>\n",
       "  </tbody>\n",
       "</table>\n",
       "</div>"
      ],
      "text/plain": [
       "   A    B  C   D\n",
       "0  1  4.0  7  10"
      ]
     },
     "execution_count": 7,
     "metadata": {},
     "output_type": "execute_result"
    }
   ],
   "source": [
    "# drop rows with null data\n",
    "my_df.dropna() # inplace = True for permanent change"
   ]
  },
  {
   "cell_type": "code",
   "execution_count": 8,
   "id": "68d32796",
   "metadata": {},
   "outputs": [
    {
     "data": {
      "text/html": [
       "<div>\n",
       "<style scoped>\n",
       "    .dataframe tbody tr th:only-of-type {\n",
       "        vertical-align: middle;\n",
       "    }\n",
       "\n",
       "    .dataframe tbody tr th {\n",
       "        vertical-align: top;\n",
       "    }\n",
       "\n",
       "    .dataframe thead th {\n",
       "        text-align: right;\n",
       "    }\n",
       "</style>\n",
       "<table border=\"1\" class=\"dataframe\">\n",
       "  <thead>\n",
       "    <tr style=\"text-align: right;\">\n",
       "      <th></th>\n",
       "      <th>A</th>\n",
       "      <th>C</th>\n",
       "      <th>D</th>\n",
       "    </tr>\n",
       "  </thead>\n",
       "  <tbody>\n",
       "    <tr>\n",
       "      <th>0</th>\n",
       "      <td>1</td>\n",
       "      <td>7</td>\n",
       "      <td>10</td>\n",
       "    </tr>\n",
       "    <tr>\n",
       "      <th>1</th>\n",
       "      <td>2</td>\n",
       "      <td>8</td>\n",
       "      <td>11</td>\n",
       "    </tr>\n",
       "    <tr>\n",
       "      <th>2</th>\n",
       "      <td>3</td>\n",
       "      <td>9</td>\n",
       "      <td>12</td>\n",
       "    </tr>\n",
       "  </tbody>\n",
       "</table>\n",
       "</div>"
      ],
      "text/plain": [
       "   A  C   D\n",
       "0  1  7  10\n",
       "1  2  8  11\n",
       "2  3  9  12"
      ]
     },
     "execution_count": 8,
     "metadata": {},
     "output_type": "execute_result"
    }
   ],
   "source": [
    "# drop columns with null data\n",
    "my_df.dropna(axis = 1) # inplace = True for permanent change"
   ]
  },
  {
   "cell_type": "code",
   "execution_count": null,
   "id": "5e8731d6",
   "metadata": {},
   "outputs": [
    {
     "data": {
      "text/html": [
       "<div>\n",
       "<style scoped>\n",
       "    .dataframe tbody tr th:only-of-type {\n",
       "        vertical-align: middle;\n",
       "    }\n",
       "\n",
       "    .dataframe tbody tr th {\n",
       "        vertical-align: top;\n",
       "    }\n",
       "\n",
       "    .dataframe thead th {\n",
       "        text-align: right;\n",
       "    }\n",
       "</style>\n",
       "<table border=\"1\" class=\"dataframe\">\n",
       "  <thead>\n",
       "    <tr style=\"text-align: right;\">\n",
       "      <th></th>\n",
       "      <th>A</th>\n",
       "      <th>B</th>\n",
       "      <th>C</th>\n",
       "      <th>D</th>\n",
       "    </tr>\n",
       "  </thead>\n",
       "  <tbody>\n",
       "    <tr>\n",
       "      <th>0</th>\n",
       "      <td>1</td>\n",
       "      <td>4.0</td>\n",
       "      <td>7</td>\n",
       "      <td>10</td>\n",
       "    </tr>\n",
       "    <tr>\n",
       "      <th>1</th>\n",
       "      <td>2</td>\n",
       "      <td>NaN</td>\n",
       "      <td>8</td>\n",
       "      <td>11</td>\n",
       "    </tr>\n",
       "    <tr>\n",
       "      <th>2</th>\n",
       "      <td>3</td>\n",
       "      <td>NaN</td>\n",
       "      <td>9</td>\n",
       "      <td>12</td>\n",
       "    </tr>\n",
       "  </tbody>\n",
       "</table>\n",
       "</div>"
      ],
      "text/plain": [
       "   A    B  C   D\n",
       "0  1  4.0  7  10\n",
       "1  2  NaN  8  11\n",
       "2  3  NaN  9  12"
      ]
     },
     "execution_count": 9,
     "metadata": {},
     "output_type": "execute_result"
    }
   ],
   "source": [
    "# set threshold\n",
    "my_df.dropna(thresh = 1, axis = 1) # if thresh = 2, then B is removed"
   ]
  },
  {
   "cell_type": "code",
   "execution_count": 11,
   "id": "d01af84e",
   "metadata": {},
   "outputs": [
    {
     "data": {
      "text/html": [
       "<div>\n",
       "<style scoped>\n",
       "    .dataframe tbody tr th:only-of-type {\n",
       "        vertical-align: middle;\n",
       "    }\n",
       "\n",
       "    .dataframe tbody tr th {\n",
       "        vertical-align: top;\n",
       "    }\n",
       "\n",
       "    .dataframe thead th {\n",
       "        text-align: right;\n",
       "    }\n",
       "</style>\n",
       "<table border=\"1\" class=\"dataframe\">\n",
       "  <thead>\n",
       "    <tr style=\"text-align: right;\">\n",
       "      <th></th>\n",
       "      <th>A</th>\n",
       "      <th>B</th>\n",
       "      <th>C</th>\n",
       "      <th>D</th>\n",
       "    </tr>\n",
       "  </thead>\n",
       "  <tbody>\n",
       "    <tr>\n",
       "      <th>0</th>\n",
       "      <td>1</td>\n",
       "      <td>4.0</td>\n",
       "      <td>7</td>\n",
       "      <td>10</td>\n",
       "    </tr>\n",
       "    <tr>\n",
       "      <th>1</th>\n",
       "      <td>2</td>\n",
       "      <td>4.0</td>\n",
       "      <td>8</td>\n",
       "      <td>11</td>\n",
       "    </tr>\n",
       "    <tr>\n",
       "      <th>2</th>\n",
       "      <td>3</td>\n",
       "      <td>4.0</td>\n",
       "      <td>9</td>\n",
       "      <td>12</td>\n",
       "    </tr>\n",
       "  </tbody>\n",
       "</table>\n",
       "</div>"
      ],
      "text/plain": [
       "   A    B  C   D\n",
       "0  1  4.0  7  10\n",
       "1  2  4.0  8  11\n",
       "2  3  4.0  9  12"
      ]
     },
     "execution_count": 11,
     "metadata": {},
     "output_type": "execute_result"
    }
   ],
   "source": [
    "# replace nulls with fillna()\n",
    "my_df.fillna(value = my_df[\"B\"].mean())"
   ]
  }
 ],
 "metadata": {
  "kernelspec": {
   "display_name": "Python 3",
   "language": "python",
   "name": "python3"
  },
  "language_info": {
   "codemirror_mode": {
    "name": "ipython",
    "version": 3
   },
   "file_extension": ".py",
   "mimetype": "text/x-python",
   "name": "python",
   "nbconvert_exporter": "python",
   "pygments_lexer": "ipython3",
   "version": "3.11.9"
  }
 },
 "nbformat": 4,
 "nbformat_minor": 5
}
