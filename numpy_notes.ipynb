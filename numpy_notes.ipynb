{
 "cells": [
  {
   "cell_type": "markdown",
   "id": "28e98589",
   "metadata": {},
   "source": [
    "Import numpy with:"
   ]
  },
  {
   "cell_type": "code",
   "execution_count": null,
   "id": "f356e77f",
   "metadata": {},
   "outputs": [],
   "source": [
    "import numpy as np"
   ]
  },
  {
   "cell_type": "markdown",
   "id": "25666c50",
   "metadata": {},
   "source": [
    "Create 1D arrays from list:"
   ]
  },
  {
   "cell_type": "code",
   "execution_count": null,
   "id": "1ee30fe6",
   "metadata": {},
   "outputs": [],
   "source": [
    "python_list = [3, 2, 5, 8, 4, 9, 7, 6, 1]\n",
    "array = np.array(python_list)\n",
    "type(array) # numpy.ndarray"
   ]
  }
 ],
 "metadata": {
  "language_info": {
   "name": "python"
  }
 },
 "nbformat": 4,
 "nbformat_minor": 5
}
