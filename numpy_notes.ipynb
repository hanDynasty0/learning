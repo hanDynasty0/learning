{
 "cells": [
  {
   "cell_type": "markdown",
   "id": "28e98589",
   "metadata": {},
   "source": [
    "Import numpy with:"
   ]
  },
  {
   "cell_type": "code",
   "execution_count": null,
   "id": "f356e77f",
   "metadata": {},
   "outputs": [],
   "source": [
    "import numpy as np"
   ]
  },
  {
   "cell_type": "markdown",
   "id": "25666c50",
   "metadata": {},
   "source": [
    "Create 1D arrays from lists:"
   ]
  },
  {
   "cell_type": "code",
   "execution_count": null,
   "id": "1ee30fe6",
   "metadata": {},
   "outputs": [],
   "source": [
    "python_list = [3, 2, 5, 8, 4, 9, 7, 6, 1]\n",
    "array = np.array(python_list)\n",
    "type(array) # numpy.ndarray"
   ]
  },
  {
   "cell_type": "markdown",
   "id": "684e0c46",
   "metadata": {},
   "source": [
    "Create 2D arrays from lists:"
   ]
  },
  {
   "cell_type": "code",
   "execution_count": null,
   "id": "d3bf99a2",
   "metadata": {},
   "outputs": [],
   "source": [
    "python_list_of_lists = [[3, 2, 5],\n",
    "                        [9, 7, 1],\n",
    "                        [4, 3, 6]\n",
    "                        ]\n",
    "np.array(python_list_of_lists)"
   ]
  },
  {
   "cell_type": "markdown",
   "id": "17251ac9",
   "metadata": {},
   "source": [
    "Note: The difference between Python lists and numpy arrays is that numpy arrays only contain a single data type, whereas Python lists can contain multiple data types"
   ]
  },
  {
   "cell_type": "code",
   "execution_count": null,
   "id": "30afbb52",
   "metadata": {},
   "outputs": [],
   "source": [
    "# Numpy functions used to create arrays from scratch:\n",
    "np.zeros((5, 3)) # a numpy 5 by 3 array\n",
    "np.random.random((2, 4)) # same as zeros but with random floats in a 2 by 4\n",
    "np.arange(-3, 0, 3) # evenly spaced array with start and stop values\n",
    "# For arange, start can be omitted if it is 0, and step can as well if it is 1"
   ]
  },
  {
   "cell_type": "markdown",
   "id": "f93765de",
   "metadata": {},
   "source": []
  }
 ],
 "metadata": {
  "language_info": {
   "name": "python"
  }
 },
 "nbformat": 4,
 "nbformat_minor": 5
}
