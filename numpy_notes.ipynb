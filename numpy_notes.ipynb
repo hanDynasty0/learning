{
  "cells": [
    {
      "cell_type": "code",
      "execution_count": null,
      "id": "518d6060",
      "metadata": {},
      "outputs": [],
      "source": [
        "import numpy as np"
      ]
    }
  ],
  "metadata": {
    "language_info": {
      "name": "python"
    }
  },
  "nbformat": 4,
  "nbformat_minor": 5
}
