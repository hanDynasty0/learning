{
 "cells": [
  {
   "cell_type": "markdown",
   "id": "28e98589",
   "metadata": {},
   "source": [
    "Import numpy with:"
   ]
  },
  {
   "cell_type": "code",
   "execution_count": null,
   "id": "f356e77f",
   "metadata": {},
   "outputs": [],
   "source": [
    "import numpy as np"
   ]
  },
  {
   "cell_type": "markdown",
   "id": "25666c50",
   "metadata": {},
   "source": [
    "Create 1D arrays from lists:"
   ]
  },
  {
   "cell_type": "code",
   "execution_count": null,
   "id": "1ee30fe6",
   "metadata": {},
   "outputs": [],
   "source": [
    "python_list = [3, 2, 5, 8, 4, 9, 7, 6, 1]\n",
    "array = np.array(python_list)\n",
    "type(array) # numpy.ndarray"
   ]
  },
  {
   "cell_type": "markdown",
   "id": "684e0c46",
   "metadata": {},
   "source": [
    "Create 2D arrays from lists:"
   ]
  },
  {
   "cell_type": "code",
   "execution_count": null,
   "id": "d3bf99a2",
   "metadata": {},
   "outputs": [],
   "source": [
    "python_list_of_lists = [[3, 2, 5],\n",
    "                        [9, 7, 1],\n",
    "                        [4, 3, 6]\n",
    "                        ]\n",
    "np.array(python_list_of_lists)"
   ]
  },
  {
   "cell_type": "markdown",
   "id": "17251ac9",
   "metadata": {},
   "source": [
    "Note: The difference between Python lists and numpy arrays is that numpy arrays only contain a single data type, whereas Python lists can contain multiple data types."
   ]
  },
  {
   "cell_type": "code",
   "execution_count": null,
   "id": "30afbb52",
   "metadata": {},
   "outputs": [],
   "source": [
    "# Numpy functions used to create arrays from scratch:\n",
    "np.zeros((5, 3)) # a numpy 5 by 3 array\n",
    "np.random.random((2, 4)) # same as zeros but with random floats in a 2 by 4\n",
    "np.arange(-3, 0, 3) # evenly spaced array with start and stop values\n",
    "# For arange, start can be omitted if it is 0, and step can as well if it is 1\n",
    "np.full((10), 6) # fills a 1D numpy array of size 10 with 6s"
   ]
  },
  {
   "cell_type": "markdown",
   "id": "f93765de",
   "metadata": {},
   "source": [
    "A vector refers to 1D numpy arrays.\\\n",
    "A matrix refers to 2D numpy arrays.\\\n",
    "A tensor refers to 3D+ numpy arrays."
   ]
  },
  {
   "cell_type": "code",
   "execution_count": null,
   "id": "696b9441",
   "metadata": {},
   "outputs": [],
   "source": [
    "array = np.zeros((3, 5))\n",
    "print(array.shape) # prints (3, 5), the array's dimensionality attribute in tuples\n",
    "\n",
    "array = np.array([[1, 2], [5, 7], [6, 6]])\n",
    "array.flatten() # transforms the array into 1D [1, 2, 5, 7, 6, 6]\n",
    "array.reshape((2, 3)) # reshapes array into dimensions (2, 3)\n",
    "# Note: Array reshaping must be compatible with the number of elements in the array\n",
    "# Example: You can't do array.reshape((3, 3)) here"
   ]
  },
  {
   "cell_type": "markdown",
   "id": "11ed3dcb",
   "metadata": {},
   "source": [
    "NumPy data types often specify the memory size, for example:\n",
    "- np.int64\n",
    "- np.int32\n",
    "- np.float64\n",
    "- np.float32\n",
    "\n",
    "The numbers represent the number of bits the data type can hold.\n",
    "\n",
    "The dtype attribute in NumPy allows you to access the data type of a numpy array."
   ]
  },
  {
   "cell_type": "code",
   "execution_count": null,
   "id": "70c88530",
   "metadata": {},
   "outputs": [],
   "source": [
    "np.array([1.32, 5.78, 175.55]).dtype # the dtype attribute here returns dtype('float64')\n",
    "# by default, floats and ints in Python are converted to float64 and int64 in numpy, respectively\n",
    "\n",
    "np.array([\"Introduction\", \"to\", \"NumPy\"]).dtype\n",
    "# numpy converts Python strings to a string data type with capacity large enough for the longest string\n",
    "\n",
    "float_32_array = np.array([1.32, 5.78, 175.55], dtype = np.float32) \n",
    "# declares and np array with specification of data type using a keyword argument"
   ]
  },
  {
   "cell_type": "markdown",
   "id": "51b80c61",
   "metadata": {},
   "source": [
    "For type conversion, you can use the \"astype\" function."
   ]
  },
  {
   "cell_type": "code",
   "execution_count": null,
   "id": "d44889e9",
   "metadata": {},
   "outputs": [],
   "source": [
    "# Converts boolean array into int32 array\n",
    "boolean_array = np.array([[True, False], [False, False]], dtype = np.bool_)\n",
    "boolean_array.astype(np.int32)"
   ]
  },
  {
   "cell_type": "markdown",
   "id": "5955a98f",
   "metadata": {},
   "source": [
    "Slicing a 1D NumPy Array"
   ]
  },
  {
   "cell_type": "code",
   "execution_count": null,
   "id": "70e9fb8d",
   "metadata": {},
   "outputs": [],
   "source": [
    "np1 = np.array([1, 2, 3, 4, 5, 6, 7, 8, 9])\n",
    "\n",
    "# Return [2, 3, 4, 5]\n",
    "print(np1[1:5])\n",
    "\n",
    "# Return something until the end of the array\n",
    "# 4 to 9\n",
    "print(np1[3:])\n",
    "\n",
    "# Return negative slices\n",
    "# [7, 8]\n",
    "print(np1[-3: -1])\n",
    "\n",
    "# Steps\n",
    "# [2, 4]\n",
    "print(np1[1:5:2])"
   ]
  },
  {
   "cell_type": "markdown",
   "id": "bbc10e59",
   "metadata": {},
   "source": [
    "Slicing a 2D NumPy array"
   ]
  },
  {
   "cell_type": "code",
   "execution_count": null,
   "id": "53cce0e4",
   "metadata": {},
   "outputs": [],
   "source": [
    "np2 = np.array([[1, 2, 3, 4, 5], \n",
    "                [6, 7, 8, 9, 10]])\n",
    "\n",
    "# Single element indexing\n",
    "print(np2[1, 2]) # 8\n",
    "\n",
    "# Slice a 2D array\n",
    "print(np2[0:1, 1:3]) # [[2, 3]]\n",
    "print(np2[0:2, 1:3]) # [[2, 3], [7, 8]]"
   ]
  },
  {
   "cell_type": "markdown",
   "id": "4198f797",
   "metadata": {},
   "source": [
    "NumPy Universal Functions\n",
    "(Just a sample)"
   ]
  },
  {
   "cell_type": "code",
   "execution_count": null,
   "id": "06515715",
   "metadata": {},
   "outputs": [],
   "source": [
    "np1 = np.array([0, 1, 2, 3, 4, 5, 6, 7, 8, 9])\n",
    "\n",
    "# The following functions by themselves have no effect on the original array\n",
    "np.sqrt(np1) # square root of each element\n",
    "np.absolute(np1) # absolute value of each element\n",
    "np.exp(np1) # exponent with base e of each element\n",
    "np.max(np1) # maximum element\n",
    "np.min(np1) # minimum element\n",
    "np.sign(np1) # for each element, returns 1 if positive, -1 if negative, 0 if zero\n",
    "np.sin(np1) # sin of each element\n",
    "np.log(np1) # natural logarithm of each element"
   ]
  },
  {
   "cell_type": "markdown",
   "id": "28bd7c0d",
   "metadata": {},
   "source": [
    "Copy Vs. View"
   ]
  },
  {
   "cell_type": "code",
   "execution_count": null,
   "id": "1ab4f459",
   "metadata": {},
   "outputs": [],
   "source": [
    "np1 = np.array([0, 1, 2, 3, 4, 5])\n",
    "np2 = np1.view() # anything in the original np1 that is modified is also modified in np2\n",
    "np3 = np1.copy() # if np1 is modified, np3 won't be modified"
   ]
  },
  {
   "cell_type": "markdown",
   "id": "6d63a813",
   "metadata": {},
   "source": [
    "Small iteration trick\\\n",
    "np.nditer(array) creates an iterable list that you can loop through using a for loop"
   ]
  },
  {
   "cell_type": "markdown",
   "id": "da517366",
   "metadata": {},
   "source": [
    "Sorting\\\n",
    "The np.sort() function sorts arrays least to greatest for numbers, alphabetically for strings, False's at the start for booleans\\\n",
    "This function does not modify the original array\\\n",
    "For higher dimensional arrays, this function sorts each innermost array"
   ]
  },
  {
   "cell_type": "markdown",
   "id": "bb9df5ac",
   "metadata": {},
   "source": [
    "Searching\\\n",
    "The np.where(condition) function gives a convenient way to search through an array.\\\n",
    "The condition tells the function what to search for in the array.\\\n",
    "The function returns a tuple (array_of_indices, data_type), so to access the index, you need to specify the 0th item of the tuple.\\\n",
    "This function can return multiple indices where the condition is true."
   ]
  },
  {
   "cell_type": "markdown",
   "id": "f2b69917",
   "metadata": {},
   "source": [
    "Filtering"
   ]
  },
  {
   "cell_type": "code",
   "execution_count": null,
   "id": "222796f9",
   "metadata": {},
   "outputs": [],
   "source": [
    "np1 = np.array([1, 2, 3, 4, 5])\n",
    "x = [True, True, False, False, False]\n",
    "print(np1[x]) # [1 2]\n",
    "\n",
    "# Shortcut\n",
    "# Gives a boolean array where the condition (even numbers in this case) is true\n",
    "filtered = np1 % 2 == 0\n",
    "np[filtered] # Filtered array for even numbers"
   ]
  }
 ],
 "metadata": {
  "language_info": {
   "name": "python"
  }
 },
 "nbformat": 4,
 "nbformat_minor": 5
}
