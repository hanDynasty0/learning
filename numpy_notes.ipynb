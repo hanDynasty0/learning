{
 "cells": [
  {
   "cell_type": "markdown",
   "id": "28e98589",
   "metadata": {},
   "source": [
    "Import numpy with:"
   ]
  },
  {
   "cell_type": "code",
   "execution_count": null,
   "id": "f356e77f",
   "metadata": {},
   "outputs": [],
   "source": [
    "import numpy as np"
   ]
  },
  {
   "cell_type": "markdown",
   "id": "25666c50",
   "metadata": {},
   "source": [
    "Create 1D arrays from lists:"
   ]
  },
  {
   "cell_type": "code",
   "execution_count": null,
   "id": "1ee30fe6",
   "metadata": {},
   "outputs": [],
   "source": [
    "python_list = [3, 2, 5, 8, 4, 9, 7, 6, 1]\n",
    "array = np.array(python_list)\n",
    "type(array) # numpy.ndarray"
   ]
  },
  {
   "cell_type": "markdown",
   "id": "684e0c46",
   "metadata": {},
   "source": [
    "Create 2D arrays from lists:"
   ]
  },
  {
   "cell_type": "code",
   "execution_count": null,
   "id": "d3bf99a2",
   "metadata": {},
   "outputs": [],
   "source": [
    "python_list_of_lists = [[3, 2, 5],\n",
    "                        [9, 7, 1],\n",
    "                        [4, 3, 6]\n",
    "                        ]\n",
    "np.array(python_list_of_lists)"
   ]
  },
  {
   "cell_type": "markdown",
   "id": "17251ac9",
   "metadata": {},
   "source": [
    "Note: The difference between Python lists and numpy arrays is that numpy arrays only contain a single data type, whereas Python lists can contain multiple data types."
   ]
  },
  {
   "cell_type": "code",
   "execution_count": null,
   "id": "30afbb52",
   "metadata": {},
   "outputs": [],
   "source": [
    "# Numpy functions used to create arrays from scratch:\n",
    "np.zeros((5, 3)) # a numpy 5 by 3 array\n",
    "np.random.random((2, 4)) # same as zeros but with random floats in a 2 by 4\n",
    "np.arange(-3, 0, 3) # evenly spaced array with start and stop values\n",
    "# For arange, start can be omitted if it is 0, and step can as well if it is 1"
   ]
  },
  {
   "cell_type": "markdown",
   "id": "f93765de",
   "metadata": {},
   "source": [
    "A vector refers to 1D numpy arrays.\\\n",
    "A matrix refers to 2D numpy arrays.\\\n",
    "A tensor refers to 3D+ numpy arrays."
   ]
  },
  {
   "cell_type": "code",
   "execution_count": null,
   "id": "696b9441",
   "metadata": {},
   "outputs": [],
   "source": [
    "array = np.zeros((3, 5))\n",
    "print(array.shape) # prints (3, 5), the array's dimensionality attribute in tuples\n",
    "\n",
    "array = np.array([[1, 2], [5, 7], [6, 6]])\n",
    "array.flatten() # transforms the array into 1D [1, 2, 5, 7, 6, 6]\n",
    "array.reshape((2, 3)) # reshapes array into dimensions (2, 3)\n",
    "# Note: Array reshaping must be compatible with the number of elements in the array\n",
    "# Example: You can't do array.reshape((3, 3)) here"
   ]
  },
  {
   "cell_type": "markdown",
   "id": "11ed3dcb",
   "metadata": {},
   "source": [
    "NumPy data types often specify the memory size, for example:\n",
    "- np.int64\n",
    "- np.int32\n",
    "- np.float64\n",
    "- np.float32\n",
    "\n",
    "The numbers represent the number of bits the data type can hold.\n",
    "\n",
    "The dtype attribute in NumPy allows you to access the data type of a numpy array."
   ]
  },
  {
   "cell_type": "code",
   "execution_count": null,
   "id": "70c88530",
   "metadata": {},
   "outputs": [],
   "source": [
    "np.array([1.32, 5.78, 175.55]).dtype # the dtype attribute here returns dtype('float64')\n",
    "# by default, floats and ints in Python are converted to float64 and int64 in numpy, respectively\n",
    "\n",
    "np.array([\"Introduction\", \"to\", \"NumPy\"]).dtype # returns dtype('<U12')\n",
    "# numpy converts Python strings to a string data type with capacity large enough for the longest string\n",
    "\n",
    "float_32_array = np.array([1.32, 5.78, 175.55], dtype = np.float32) \n",
    "# declares and np array with specification of data type using a keyword argument"
   ]
  },
  {
   "cell_type": "markdown",
   "id": "51b80c61",
   "metadata": {},
   "source": [
    "For type conversion, you can use the \"astype\" function."
   ]
  },
  {
   "cell_type": "code",
   "execution_count": null,
   "id": "d44889e9",
   "metadata": {},
   "outputs": [],
   "source": [
    "# Converts boolean array into int32 array\n",
    "boolean_array = np.array([[True, False], [False, False]], dtype = np.bool_)\n",
    "boolean_array.astype(np.int32)"
   ]
  }
 ],
 "metadata": {
  "language_info": {
   "name": "python"
  }
 },
 "nbformat": 4,
 "nbformat_minor": 5
}
