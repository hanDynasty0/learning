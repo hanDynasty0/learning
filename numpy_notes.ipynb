{
 "cells": [
  {
   "cell_type": "markdown",
   "id": "28e98589",
   "metadata": {},
   "source": [
    "Import numpy with:"
   ]
  },
  {
   "cell_type": "code",
   "execution_count": null,
   "id": "f356e77f",
   "metadata": {},
   "outputs": [],
   "source": [
    "import numpy as np"
   ]
  }
 ],
 "metadata": {
  "language_info": {
   "name": "python"
  }
 },
 "nbformat": 4,
 "nbformat_minor": 5
}
